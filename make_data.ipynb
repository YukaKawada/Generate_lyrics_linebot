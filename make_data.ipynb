{
 "cells": [
  {
   "cell_type": "markdown",
   "id": "e132270c",
   "metadata": {},
   "source": [
    "## やること"
   ]
  },
  {
   "cell_type": "markdown",
   "id": "3e7ef087",
   "metadata": {},
   "source": [
    "- GPT2に入れるためのデータを確認"
   ]
  },
  {
   "cell_type": "code",
   "execution_count": 1,
   "id": "84445a4b",
   "metadata": {},
   "outputs": [],
   "source": [
    "import pandas as pd"
   ]
  },
  {
   "cell_type": "code",
   "execution_count": 2,
   "id": "47915bbf",
   "metadata": {},
   "outputs": [],
   "source": [
    "df = pd.read_csv(\"./data/tsunk_lyrics.csv\")"
   ]
  },
  {
   "cell_type": "code",
   "execution_count": 3,
   "id": "ebd202d6",
   "metadata": {},
   "outputs": [
    {
     "data": {
      "text/html": [
       "<div>\n",
       "<style scoped>\n",
       "    .dataframe tbody tr th:only-of-type {\n",
       "        vertical-align: middle;\n",
       "    }\n",
       "\n",
       "    .dataframe tbody tr th {\n",
       "        vertical-align: top;\n",
       "    }\n",
       "\n",
       "    .dataframe thead th {\n",
       "        text-align: right;\n",
       "    }\n",
       "</style>\n",
       "<table border=\"1\" class=\"dataframe\">\n",
       "  <thead>\n",
       "    <tr style=\"text-align: right;\">\n",
       "      <th></th>\n",
       "      <th>song_name</th>\n",
       "      <th>song_lyric</th>\n",
       "    </tr>\n",
       "  </thead>\n",
       "  <tbody>\n",
       "    <tr>\n",
       "      <th>0</th>\n",
       "      <td>女子かしまし物語(モーニング娘。'21 Ver.)</td>\n",
       "      <td>＜譜久村聖＞ハロプロエッグのあの日からずいぶん月日が過ぎたモーニング娘。の誇りをこの胸に抱く...</td>\n",
       "    </tr>\n",
       "    <tr>\n",
       "      <th>1</th>\n",
       "      <td>よしよししてほしいの</td>\n",
       "      <td>よしよししてよしよししてほしい期待してないUH UH YEAH YEAHよしよししてよしよし...</td>\n",
       "    </tr>\n",
       "    <tr>\n",
       "      <th>2</th>\n",
       "      <td>Teenage Solution</td>\n",
       "      <td>誰にも気付かせたりはしないわ冷めた感情一人で居るの　何も怖くないしそれでも誰かと過ごす土曜な...</td>\n",
       "    </tr>\n",
       "    <tr>\n",
       "      <th>3</th>\n",
       "      <td>All Together限界超えよ！</td>\n",
       "      <td>WOW　WOWWOW　WOWAll TogetherAll Together限界超えろEve...</td>\n",
       "    </tr>\n",
       "    <tr>\n",
       "      <th>4</th>\n",
       "      <td>笑顔の君は太陽さ (SAYUMINGLANDOLL～希望～ Ver.)</td>\n",
       "      <td>悔しさは忘れるもんじゃないまた地球は回り　季節が巡り君は成長する悲しみは誰かのもんじゃないま...</td>\n",
       "    </tr>\n",
       "    <tr>\n",
       "      <th>...</th>\n",
       "      <td>...</td>\n",
       "      <td>...</td>\n",
       "    </tr>\n",
       "    <tr>\n",
       "      <th>1425</th>\n",
       "      <td>おいらに惚れちゃ怪我するぜ！</td>\n",
       "      <td>(セリフ)おい。ちょっくら邪魔するぜ!一(ひい)、二(ふう)、三(みい)、四(よお)おいらに...</td>\n",
       "    </tr>\n",
       "    <tr>\n",
       "      <th>1426</th>\n",
       "      <td>大阪府東大阪市立布施中学校校歌(我が希望たち)</td>\n",
       "      <td>それでいいんだ　自分のことが　気になることは　当たり前だろうそれでいいんだ　悔しい気持ち　恋...</td>\n",
       "    </tr>\n",
       "    <tr>\n",
       "      <th>1427</th>\n",
       "      <td>だってのにやってられん!</td>\n",
       "      <td>21世紀だってのにもう夏休みだってのにマジで遊園地だってのにお客はガラガラのどもカラカラだっ...</td>\n",
       "    </tr>\n",
       "    <tr>\n",
       "      <th>1428</th>\n",
       "      <td>大スクープ</td>\n",
       "      <td>意味なく踊る少女達お客もいない遊園地なのに聞かせてほしい　本当のことを大スクープにしちゃうか...</td>\n",
       "    </tr>\n",
       "    <tr>\n",
       "      <th>1429</th>\n",
       "      <td>いつか大空の下で</td>\n",
       "      <td>きっといつか　大空の下　駆け巡りたいぜえぜえ　はあはあ　ぜえぜえ　はあはあぜえぜえ　はあはあ...</td>\n",
       "    </tr>\n",
       "  </tbody>\n",
       "</table>\n",
       "<p>1430 rows × 2 columns</p>\n",
       "</div>"
      ],
      "text/plain": [
       "                                song_name  \\\n",
       "0               女子かしまし物語(モーニング娘。'21 Ver.)   \n",
       "1                              よしよししてほしいの   \n",
       "2                        Teenage Solution   \n",
       "3                      All Together限界超えよ！   \n",
       "4     笑顔の君は太陽さ (SAYUMINGLANDOLL～希望～ Ver.)   \n",
       "...                                   ...   \n",
       "1425                       おいらに惚れちゃ怪我するぜ！   \n",
       "1426              大阪府東大阪市立布施中学校校歌(我が希望たち)   \n",
       "1427                         だってのにやってられん!   \n",
       "1428                                大スクープ   \n",
       "1429                             いつか大空の下で   \n",
       "\n",
       "                                             song_lyric  \n",
       "0     ＜譜久村聖＞ハロプロエッグのあの日からずいぶん月日が過ぎたモーニング娘。の誇りをこの胸に抱く...  \n",
       "1     よしよししてよしよししてほしい期待してないUH UH YEAH YEAHよしよししてよしよし...  \n",
       "2     誰にも気付かせたりはしないわ冷めた感情一人で居るの　何も怖くないしそれでも誰かと過ごす土曜な...  \n",
       "3     WOW　WOWWOW　WOWAll TogetherAll Together限界超えろEve...  \n",
       "4     悔しさは忘れるもんじゃないまた地球は回り　季節が巡り君は成長する悲しみは誰かのもんじゃないま...  \n",
       "...                                                 ...  \n",
       "1425  (セリフ)おい。ちょっくら邪魔するぜ!一(ひい)、二(ふう)、三(みい)、四(よお)おいらに...  \n",
       "1426  それでいいんだ　自分のことが　気になることは　当たり前だろうそれでいいんだ　悔しい気持ち　恋...  \n",
       "1427  21世紀だってのにもう夏休みだってのにマジで遊園地だってのにお客はガラガラのどもカラカラだっ...  \n",
       "1428  意味なく踊る少女達お客もいない遊園地なのに聞かせてほしい　本当のことを大スクープにしちゃうか...  \n",
       "1429  きっといつか　大空の下　駆け巡りたいぜえぜえ　はあはあ　ぜえぜえ　はあはあぜえぜえ　はあはあ...  \n",
       "\n",
       "[1430 rows x 2 columns]"
      ]
     },
     "execution_count": 3,
     "metadata": {},
     "output_type": "execute_result"
    }
   ],
   "source": [
    "df"
   ]
  },
  {
   "cell_type": "code",
   "execution_count": 7,
   "id": "6fef81aa",
   "metadata": {},
   "outputs": [
    {
     "data": {
      "text/plain": [
       "'よしよししてよしよししてほしい期待してないUH UH YEAH YEAHよしよししてよしよししてほしいUH UH YEAH YEAH心配したよな顔しなくていい端(はな)から\\u3000期待してないTonight一人でいるのは\\u3000嫌じゃないけど一人でいるのが\\u3000楽なんだけど一人でいた方が\\u3000他の誰かを一人でいた方が\\u3000傷つけたりしないし本音を話すと\\u3000みんな眉をひそめて問題児扱い\\u3000するじゃんOh No\\u3000センチメンタル少女今夜の終わりが来たなら眠る今夜の終わりがいつだかわからないTonightよしよししてよしよししてほしいUH UH YEAH YEAH\\u3000センチメンタルなぐさめてなぐさめてほしいUH UH YEAH YEAH\\u3000愛が抱きしめて抱きしめてほしいUH UH YEAH YEAH\\u3000センチメンタル理解して理解してほしいUH UH YEAH YEAHよしよししてよしよししてほしい期待してないUH UH YEAH YEAHよしよししてよしよししてほしいUH UH YEAH YEAH心配したよな顔しなくていい端(はな)から\\u3000期待してないTonight笑顔が私の\\u3000防御ですから返事が良いのも\\u3000防御ですから優等生なのも\\u3000防御ですからみんなそれぞれに\\u3000防御があるんでしょうが本音を話すと\\u3000なんかその後ぐったり脱力感が\\u3000残る…Oh No\\u3000センチメンタル少女明日の始まり眩しい朝焼け明日でなくって今日なんだけどねTonightTonight涙して涙してみたいUH UH YEAH YEAH\\u3000センチメンタルわがままをわがままをしたいUH UH YEAH YEAH\\u3000愛が好きなだけ好きなだけ食べたいUH UH YEAH YEAH\\u3000センチメンタル好きなこと好きなこと言いたいUH UH YEAH YEAHよしよししてよしよししてほしい期待してないUH UH YEAH YEAHよしよししてよしよししてほしいUH UH YEAH YEAHTonightよしよししてよしよししてほしいUH UH YEAH YEAH\\u3000センチメンタルよしよししてよしよししてほしいUH UH YEAH YEAH\\u3000センチメンタルよしよししてよしよししてほしいUH UH YEAH YEAH\\u3000センチメンタルよしよししてよしよししてほしいUH UH YEAH YEAHTonightよしよししてよしよししてほしいUH UH YEAH YEAH'"
      ]
     },
     "execution_count": 7,
     "metadata": {},
     "output_type": "execute_result"
    }
   ],
   "source": [
    "df[\"song_lyric\"][1]"
   ]
  },
  {
   "cell_type": "code",
   "execution_count": null,
   "id": "cbeb3a02",
   "metadata": {},
   "outputs": [],
   "source": []
  },
  {
   "cell_type": "code",
   "execution_count": null,
   "id": "abc4a94a",
   "metadata": {},
   "outputs": [],
   "source": []
  },
  {
   "cell_type": "code",
   "execution_count": null,
   "id": "222329bb",
   "metadata": {},
   "outputs": [],
   "source": []
  },
  {
   "cell_type": "code",
   "execution_count": null,
   "id": "f4c065b4",
   "metadata": {},
   "outputs": [],
   "source": []
  }
 ],
 "metadata": {
  "kernelspec": {
   "display_name": "Python 3",
   "language": "python",
   "name": "python3"
  },
  "language_info": {
   "codemirror_mode": {
    "name": "ipython",
    "version": 3
   },
   "file_extension": ".py",
   "mimetype": "text/x-python",
   "name": "python",
   "nbconvert_exporter": "python",
   "pygments_lexer": "ipython3",
   "version": "3.8.11"
  }
 },
 "nbformat": 4,
 "nbformat_minor": 5
}
